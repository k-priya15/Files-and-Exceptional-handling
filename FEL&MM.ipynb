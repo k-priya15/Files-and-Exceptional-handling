{
  "nbformat": 4,
  "nbformat_minor": 0,
  "metadata": {
    "colab": {
      "provenance": []
    },
    "kernelspec": {
      "name": "python3",
      "display_name": "Python 3"
    },
    "language_info": {
      "name": "python"
    }
  },
  "cells": [
    {
      "cell_type": "markdown",
      "source": [
        "#Files, exceptional handling, logging and memory management Assignment"
      ],
      "metadata": {
        "id": "urts2IP6SAJ-"
      }
    },
    {
      "cell_type": "markdown",
      "source": [
        "##Files, exceptional handling, logging and memory management Questions"
      ],
      "metadata": {
        "id": "hm3dLKpUm-sO"
      }
    },
    {
      "cell_type": "markdown",
      "source": [
        "1. What is the difference between interpreted and compiled languages?\n",
        "- The difference between the interpreted and compiled languages is as follows:\n",
        "\n",
        " 1) Process of Execution\n",
        "\n",
        "  Line by line execution occurs at runtime in interpreted languages.\n",
        "\n",
        "  Compiled Languages: Before running, translate all of the code into machine language.\n",
        "\n",
        " 2) Velocity\n",
        "\n",
        "  Because code is translated while it is being executed, interpretation is slower.\n",
        "\n",
        "  Compiled: Quicker because the code has already been translated into machine language.\n",
        "\n",
        " 3) Identifying Errors\n",
        "\n",
        "  Interpreted: When an error happens, it stops right away.\n",
        "\n",
        "  Compiled: Identifies all mistakes prior to program execution.\n",
        "\n",
        " 4) Mobility\n",
        "\n",
        "  Because it may be used on any system that has an interpreter, it is more portable.\n",
        "\n",
        "  Compiled: Requires recompilation for many systems, making it less portable.\n",
        "\n",
        " 5) Situations of Use\n",
        "\n",
        "  Interpreted: Applied to online apps, scripting, and quick development.\n",
        "\n",
        "  Compiled: Suggested for applications requiring high performance, such as OS development and games.\n"
      ],
      "metadata": {
        "id": "TW0nZVVmSVCX"
      }
    },
    {
      "cell_type": "markdown",
      "source": [
        "\n",
        "\n",
        "---\n",
        "\n"
      ],
      "metadata": {
        "id": "f0Hj71OpsjjQ"
      }
    },
    {
      "cell_type": "markdown",
      "source": [
        "2.  What is exception handling in Python?\n",
        "\n",
        "- Python's exception management feature allows for the graceful handling of runtime faults, avoiding application crashes.  It guarantees that the software can react appropriately to errors rather than stopping suddenly.\n",
        " To catch and manage exceptions, Python offers try-except blocks.  Cleanup code can be called in the finally block, and else will run if there isn't an exception.\n",
        " This supports programs' smooth error recovery and code dependability."
      ],
      "metadata": {
        "id": "N-UTQp96YBP7"
      }
    },
    {
      "cell_type": "markdown",
      "source": [
        "\n",
        "\n",
        "---\n",
        "\n"
      ],
      "metadata": {
        "id": "h6at4EsGso9U"
      }
    },
    {
      "cell_type": "markdown",
      "source": [
        "3. What is the purpose of the finally block in exception handling?\n",
        "\n",
        "- The finally block in exception handling serves the following purposes:\n",
        "\n",
        " 1) Ensures Execution: Whether or not an exception arises, the finally block always runs.\n",
        "\n",
        " 2) To prevent resource leaks, resource cleanup is used to disconnect databases, release memory, and close files.\n",
        "\n",
        " 3) Maintains Stability: By managing required post-exception duties, the program helps to guarantee that it operates without hiccups.\n",
        "\n",
        " 4) Functions with or Without Exceptions: It runs regardless of whether the try block contains an error."
      ],
      "metadata": {
        "id": "jfPpOF0AaMOa"
      }
    },
    {
      "cell_type": "markdown",
      "source": [
        "\n",
        "\n",
        "---\n",
        "\n"
      ],
      "metadata": {
        "id": "fRg3rjNqsw3W"
      }
    },
    {
      "cell_type": "markdown",
      "source": [
        "4. What is logging in Python?\n",
        "\n",
        "- Python logging allows you to keep track of events that take place while your application is running.  It facilitates error tracking, monitoring, and debugging without interfering with the regular execution flow.\n",
        "\n",
        " Logging offers various message levels in place of print():\n",
        "\n",
        " 1) DEBUG: Comprehensive debugging information.\n",
        " 2) INFO: The program's general events.\n",
        " 3) WARNING: Signs of possible problems.\n",
        " 4) ERROR: A significant issue has arisen.\n",
        " 5) CRITICAL: An extremely dangerous error that could cause the program to crash."
      ],
      "metadata": {
        "id": "Qx7JZAgbb-fF"
      }
    },
    {
      "cell_type": "markdown",
      "source": [
        "\n",
        "\n",
        "---\n",
        "\n"
      ],
      "metadata": {
        "id": "F4EtJOj4syJN"
      }
    },
    {
      "cell_type": "markdown",
      "source": [
        "5. What is the significance of the __del__ method in Python?\n",
        "\n",
        "- The __del__ Method in Python has the following significance:\n",
        "\n",
        " 1) Destructor Method: When an object is removed or exits scope, the special method __del__ launches automatically.\n",
        "\n",
        " 2) Resource cleanup is the process of releasing resources, such as memory, files, and databases, before an object is destroyed.\n",
        "\n",
        " 3) Garbage Collection: It helps Python's built-in garbage collection system get rid of unnecessary items.\n",
        "\n",
        " 4) Not Always Instantaneous: Python's memory management system may cause __del__ to not execute until garbage collection has taken place.\n",
        "\n",
        "5) Must Be Used Cautiously  Unexpected behavior can result from overusing __del__, particularly when working with circular references."
      ],
      "metadata": {
        "id": "zs4t2cSa87Y7"
      }
    },
    {
      "cell_type": "markdown",
      "source": [
        "\n",
        "\n",
        "---\n",
        "\n"
      ],
      "metadata": {
        "id": "yHVt4HL0szjD"
      }
    },
    {
      "cell_type": "markdown",
      "source": [
        "6. What is the difference between import and from ... import in Python?\n",
        "-  i) module for imports\n",
        "\n",
        "1) brings in the complete module.\n",
        "\n",
        "2)requires that functions be accessed using the module name (module.function()).\n",
        "\n",
        "3) Example:\n",
        "        import math\n",
        "        print(math.sqrt(25))  # Access using math.sqrt\n",
        "\n",
        "\n",
        "    ii) from the import function of the module\n",
        "\n",
        " 1) only brings in particular variables or functions from a module.\n",
        "\n",
        " 2) permits access directly without utilizing the module name.\n",
        "\n",
        " 3) Example:\n",
        "        from math import sqrt\n",
        "        print(sqrt(25))\n"
      ],
      "metadata": {
        "id": "dl6eU4fW900U"
      }
    },
    {
      "cell_type": "markdown",
      "source": [
        "\n",
        "\n",
        "---\n",
        "\n"
      ],
      "metadata": {
        "id": "EYpb5GoUs051"
      }
    },
    {
      "cell_type": "markdown",
      "source": [
        "7. How can you handle multiple exceptions in Python?\n",
        "- Python's methods for managing multiple exceptions are:\n",
        "\n",
        " 1) Using numerous except Blocks: By defining numerous except blocks for distinct errors, you can handle various exception types independently.\n",
        "\n",
        " 2) Using a Single except Block with a Tuple — By supplying several exceptions as a tuple, you can catch them all in a single block rather than using multiple except blocks.\n",
        "\n",
        " 3) Using a Generic except Block: Any exception can be caught using a general except block, but it should be used carefully to prevent problems from being hidden.\n",
        "\n",
        " 4) Using try-except-else-finally: The finally block guarantees cleanup (such as shutting files) in the event of errors, whereas the else block executes if no exception occurs.\n",
        "\n",
        " 5) By capturing the exception object with except Exception as e, you can record or print the precise error message for troubleshooting."
      ],
      "metadata": {
        "id": "605MjXs4Q8h5"
      }
    },
    {
      "cell_type": "markdown",
      "source": [
        "\n",
        "\n",
        "---\n",
        "\n"
      ],
      "metadata": {
        "id": "3zKG2aUbs1_S"
      }
    },
    {
      "cell_type": "markdown",
      "source": [
        "8. What is the purpose of the with statement when handling files in Python?\n",
        "- The with statement in File Handling (Python) serves the following purposes:\n",
        "\n",
        " 1) Even in the event of an error, automatic resource management makes sure the file is correctly closed after its activities.\n",
        "\n",
        " 2) Cleaner Code: By doing away with the need to manually call close(), the code becomes more understandable and succinct.\n",
        "\n",
        " 3) Exception Handling: Prevents resource leaks by gracefully handling exceptions.\n",
        "\n",
        " 4) Improved Efficiency: Makes use of a context manager to maximize performance and memory use."
      ],
      "metadata": {
        "id": "PEevJ7hfU0js"
      }
    },
    {
      "cell_type": "markdown",
      "source": [
        "\n",
        "\n",
        "---\n",
        "\n"
      ],
      "metadata": {
        "id": "ajQeoQ8Ss3Ln"
      }
    },
    {
      "cell_type": "markdown",
      "source": [
        "9. What is the difference between multithreading and multiprocessing?\n",
        "\n",
        "- //Definition of the Distinction Between Multithreading and Multiprocessing\n",
        "\n",
        " 1) Operating several threads in a single process while sharing memory is known as multithreading.\n",
        "\n",
        " 2) Operating several processes, each with its own memory space, is known as multiprocessing.\n",
        "\n",
        " //Utilization of Memory\n",
        "\n",
        " 1) Multithreading is lightweight because threads share memory.\n",
        "\n",
        " 2) Multiprocessing: Every process uses additional resources and has its own memory.\n",
        "\n",
        " //Performance\n",
        "\n",
        " 1) For I/O-bound operations (like file reading and web scraping), multithreading is appropriate.\n",
        "\n",
        " 2) For CPU-bound operations (like data processing and machine learning), multiprocessing is ideal.\n",
        "\n",
        " //Comparing Parallelism and Concurrency\n",
        "\n",
        " 1) Concurrency is achieved through multithreading, which makes tasks appear to perform concurrently.\n",
        "\n",
        " 2) True parallelism, or tasks running in parallel, is achieved by multiprocessing.\n",
        "\n",
        " //Python's Global Interpreter Lock, or GIL\n",
        "\n",
        " 1) GIL has an impact on multithreading, which means that in Python, only one thread can operate at a time.\n",
        "\n",
        " 2) GIL has no effect on multiprocessing, enabling full CPU use."
      ],
      "metadata": {
        "id": "vYEsF64RVsQR"
      }
    },
    {
      "cell_type": "markdown",
      "source": [
        "\n",
        "\n",
        "---\n",
        "\n"
      ],
      "metadata": {
        "id": "2uStPKUIs4QE"
      }
    },
    {
      "cell_type": "markdown",
      "source": [
        "10. What are the advantages of using logging in a program?\n",
        "\n",
        "- Using logging in a program has the following benefits:\n",
        "\n",
        "  1) Error tracking facilitates the effective identification and troubleshooting of problems.\n",
        "\n",
        "  2) Preserves Documents: Preserves records of significant occurrences for further examination.\n",
        "\n",
        "  3) Enhances Debugging: Offers thorough warnings and error messages.\n",
        "\n",
        "  4) Logs can be filtered using customizable levels (INFO, WARNING, ERROR, DEBUG, etc.).\n",
        "\n",
        "  5) Avoids  Statements in Print  a more methodical and polished approach than print().\n",
        "\n",
        "  6) Concurrency Support: Performs admirably in applications that use multiple threads and processes.\n",
        "\n",
        "  7) Log to Files: Keeps logs in files for system monitoring and auditing.\n",
        "  \n",
        "  8) Analyzing an application's performance over time is made easier using performance monitoring."
      ],
      "metadata": {
        "id": "Ygd3RHV0dFvt"
      }
    },
    {
      "cell_type": "markdown",
      "source": [
        "\n",
        "\n",
        "---\n",
        "\n"
      ],
      "metadata": {
        "id": "sPJITUt4s5X5"
      }
    },
    {
      "cell_type": "markdown",
      "source": [
        "11. What is memory management in Python?\n",
        "- In Python, memory management describes how the language manages memory allocation and deallocation to guarantee effective operation and stop memory leaks.\n",
        "\n",
        " Important Elements of Memory Management in Python are:\n",
        "\n",
        " 1) Automatic Memory Allocation: When an object is created in Python, memory is automatically allocated for it.\n",
        "\n",
        " 2) Garbage Collection: To save up memory, Python comes with an integrated garbage collector that eliminates unnecessary objects.\n",
        "\n",
        " 3) Reference Counting: Memory is released when an object's reference count drops to zero.\n",
        "\n",
        " 4) Dynamic Typing: The type of data supplied to variables determines how memory is dynamically allocated.\n",
        "\n",
        " 5) Memory Pools (PyMalloc): To effectively manage memory, Python makes use of memory pools and a private heap.\n",
        "\n",
        " 6) The del Statement lowers memory use by assisting with manual object deletion."
      ],
      "metadata": {
        "id": "9mx_j7uJduea"
      }
    },
    {
      "cell_type": "markdown",
      "source": [
        "\n",
        "\n",
        "---\n",
        "\n"
      ],
      "metadata": {
        "id": "6IWfNQ9qs6Y0"
      }
    },
    {
      "cell_type": "markdown",
      "source": [
        "12. What are the basic steps involved in exception handling in Python?\n",
        "- The following are the fundamental steps for handling exceptions in Python:\n",
        "\n",
        " 1) Try Block: Enclose any code that might result in an exception in a try block.\n",
        "\n",
        " 2) The except block is where you catch and deal with individual or general exceptions.\n",
        "\n",
        " 3) Multiple Except Blocks (Optional): If necessary, handle various exception kinds independently.\n",
        "\n",
        " 4) If there isn't an exception in the try block, the optional Else Block is executed.\n",
        "\n",
        " 5) The Finally Block (Optional) is used for cleanup tasks and executes code whether or not an exception occurs."
      ],
      "metadata": {
        "id": "QpFTy6g1TF8V"
      }
    },
    {
      "cell_type": "markdown",
      "source": [
        "\n",
        "\n",
        "---\n",
        "\n"
      ],
      "metadata": {
        "id": "OKizupJ4ZBiT"
      }
    },
    {
      "cell_type": "markdown",
      "source": [
        "13. Why is memory management important in Python?\n",
        "-"
      ],
      "metadata": {
        "id": "PWNJLzDeTR96"
      }
    },
    {
      "cell_type": "markdown",
      "source": [
        "\n",
        "\n",
        "---\n",
        "\n"
      ],
      "metadata": {
        "id": "QWK342ptZDp9"
      }
    },
    {
      "cell_type": "markdown",
      "source": [
        "14.  What is the role of try and except in exception handling?\n",
        "- Try and except serve the following purposes in exception handling:\n",
        "\n",
        " i) Try Block:\n",
        "\n",
        " includes the code that could result in an exception.\n",
        " Python searches for an except block and halts execution if an error occurs.\n",
        " aside from  Block:\n",
        "\n",
        " captures the exception and deals with it.\n",
        " allows for gentle error handling and keeps the program from crashing.\n"
      ],
      "metadata": {
        "id": "NOzxYXTmTWcp"
      }
    },
    {
      "cell_type": "markdown",
      "source": [
        "\n",
        "\n",
        "---\n",
        "\n"
      ],
      "metadata": {
        "id": "znlSAj7PZE5C"
      }
    },
    {
      "cell_type": "markdown",
      "source": [
        "15. How does Python's garbage collection system work?\n",
        "- Python effectively manages memory by eliminating unnecessary objects using automatic garbage collection.  It mostly depends on:\n",
        "\n",
        "      i)Counting References:\n",
        "\n",
        " 1) In Python, every object has a number of references.\n",
        "\n",
        " 2) The object is automatically erased when the count falls to zero.\n",
        "\n",
        "      ii) Collector of Garbage (GC):\n",
        "\n",
        " 1) manages circularly referenced objects, such as those that refer to one another.\n",
        "\n",
        " 2) Utilizes Generational Garbage Collection, which separates items into three age groups: young, middle-aged, and elderly.\n",
        "\n",
        " 3) To increase performance, Python gathers garbage from older objects less frequently.\n",
        "\n",
        "      iii) Manual Trash Collection (Selective):\n",
        "\n",
        " 1) Using gc.collect(), developers can manually start garbage collection with the gc module."
      ],
      "metadata": {
        "id": "9lBMh5HTTbld"
      }
    },
    {
      "cell_type": "markdown",
      "source": [
        "\n",
        "\n",
        "---\n",
        "\n"
      ],
      "metadata": {
        "id": "gax7wycdZGxP"
      }
    },
    {
      "cell_type": "markdown",
      "source": [
        "16. What is the purpose of the else block in exception handling?\n",
        "- The else block in exception handling serves the following purposes:\n",
        "\n",
        " 1) Only runs in the absence of an exception:--\n",
        "Only when the code inside the try block runs successfully and doesn't raise an exception does the else block run.\n",
        "\n",
        " 2) For Code That Must Not Execute in the Event of Failure:--\n",
        "It keeps exception handling tidy by separating the logic that should only run in the absence of errors.\n",
        "\n",
        " 3) Enhances Readability and Organization:--\n",
        "Aids in keeping error-prone code (try), error handling (except), and success cases (else) clearly separated."
      ],
      "metadata": {
        "id": "LsMjddLQTc-X"
      }
    },
    {
      "cell_type": "markdown",
      "source": [
        "\n",
        "\n",
        "---\n",
        "\n"
      ],
      "metadata": {
        "id": "c6AoZz_dZIc5"
      }
    },
    {
      "cell_type": "markdown",
      "source": [
        "17. What are the common logging levels in Python?\n",
        "- The logging module in Python has multiple levels for classifying log messages according to their level of severity. These levels include:\n",
        "\n",
        " 1) DEBUG (10): Comprehensive details for identifying issues in development.\n",
        "\n",
        " 2) INFO (20): General details regarding the execution of the program, including successful operations.\n",
        "\n",
        " 3) WARNING (30): Signals an unexpected behavior or possible issue that does not halt execution.\n",
        "\n",
        " 4) ERROR (40): A significant but non-critical problem that has resulted in an execution failure.\n",
        "\n",
        " 5) CRITICAL (50): A serious error that suggests the program might not be able to proceed."
      ],
      "metadata": {
        "id": "-QbwQoyjThgT"
      }
    },
    {
      "cell_type": "markdown",
      "source": [
        "\n",
        "\n",
        "---\n",
        "\n"
      ],
      "metadata": {
        "id": "e_sYo_JDZJUu"
      }
    },
    {
      "cell_type": "markdown",
      "source": [
        "18. What is the difference between os.fork() and multiprocessing in Python?\n",
        "- The distinction  The differences between Python multiprocessing and os.fork() are:\n",
        "\n",
        "      i) Usability:\n",
        "\n",
        " 1) os.fork(): Duplicates the parent process to create a new child process.  only functions on systems running Unix.\n",
        "\n",
        " 2) Multiprocessing: Using Python's built-in module, it offers a cross-platform method for creating and managing numerous processes.\n",
        "\n",
        "      ii) Mobility:\n",
        "\n",
        " 1) os.fork(): Not available on Windows, works only on Unix/Linux.\n",
        "\n",
        " 2) Multiprocessing: Compatible with Linux, macOS, and Windows.\n",
        "\n",
        "       iii) Usability:\n",
        "\n",
        " 1) os.fork(): Needs process management to be done by manually (such as waiting for child processes).\n",
        "\n",
        " 2) Multiprocessing: Facilitates process management by offering higher-level abstractions such as Process, Pool, and Queue.\n",
        "\n",
        "      iv) Thread Security:\n",
        "\n",
        " OS.1) fork(): Because it replicates threads, it might be problematic when used in multi-threaded systems.\n",
        "\n",
        " 2) Multiprocessing: This prevents these issues by creating new processes in a clean manner."
      ],
      "metadata": {
        "id": "20EbF1fdTmcB"
      }
    },
    {
      "cell_type": "markdown",
      "source": [
        "\n",
        "\n",
        "---\n",
        "\n"
      ],
      "metadata": {
        "id": "ttK12sNgZK8b"
      }
    },
    {
      "cell_type": "markdown",
      "source": [
        "19. What is the importance of closing a file in Python?\n",
        "- The following highlights the significance of closing a file in Python:\n",
        "\n",
        " 1) Releases Resources: This releases file handles and RAM from the system.\n",
        "\n",
        " 2) Prevents Data Loss: Before closing, make sure all data has been written to the file.\n",
        "\n",
        " 3) Prevents File Corruption: Prevents data corruption or incomplete writes.\n",
        "\n",
        " 4) Permits Access by Other Programs: On certain platforms, files are locked while they are open.\n",
        "\n",
        " 5) Maintains Program Stability: An excessive number of open files may cause crashes or errors."
      ],
      "metadata": {
        "id": "GIWmguEFTuER"
      }
    },
    {
      "cell_type": "markdown",
      "source": [
        "\n",
        "\n",
        "---\n",
        "\n"
      ],
      "metadata": {
        "id": "G5Ks8nuJZL9C"
      }
    },
    {
      "cell_type": "markdown",
      "source": [
        "20. What is the difference between file.read() and file.readline() in Python?\n",
        "- The distinction  In Python, the differences between file.read() and file.readline() are:\n",
        "\n",
        "      i) file.read()\n",
        "\n",
        " 1) Reads the file in its entirety as a string.\n",
        "\n",
        " 2) Has the ability to read a specified number of bytes when paired with an optional size argument.\n",
        "\n",
        " 3) Beneficial when handling the entire file at once.\n",
        "\n",
        "      ii) file.readline()\n",
        "\n",
        " 1) Reads a line at a time only.\n",
        "\n",
        " 2) The file cursor advances to the following line with each call.\n",
        "\n",
        " 3) Good for line-by-line reading of big files without putting all of the data into memory.\n",
        "\n",
        "      Example of Use:\n",
        "\n",
        " 1) When you require the complete content, use read().\n",
        " 2) To efficiently handle big files line by line, use readline()."
      ],
      "metadata": {
        "id": "7lRcHc7sTyJk"
      }
    },
    {
      "cell_type": "markdown",
      "source": [
        "\n",
        "\n",
        "---\n",
        "\n"
      ],
      "metadata": {
        "id": "H4dfDsoEZMsF"
      }
    },
    {
      "cell_type": "markdown",
      "source": [
        "21. What is the logging module in Python used for?\n",
        "- Python's logging module is used to record errors, events, and debugging data within a program.  It aids in:\n",
        "\n",
        " 1) Debugging: This method finds problems by recording warnings and errors.\n",
        "\n",
        " 2) Monitoring: Maintains a log of program activity for examination.\n",
        "\n",
        " 3) Error Handling: This feature logs errors rather than halting the program's execution.\n",
        "\n",
        " 4) Flexibility: This feature enables logging at many levels, including DEBUG, INFO, WARNING, ERROR, and CRITICAL.\n",
        "\n",
        " 5) File Logging: This feature stores logs for later use in a file."
      ],
      "metadata": {
        "id": "yKZMgX8MT2WE"
      }
    },
    {
      "cell_type": "markdown",
      "source": [
        "\n",
        "\n",
        "---\n",
        "\n"
      ],
      "metadata": {
        "id": "ysE7GsOSZOSr"
      }
    },
    {
      "cell_type": "markdown",
      "source": [
        "22. What is the os module in Python used for in file handling?\n",
        "- Python's os module has functions for interacting with the operating system, namely for managing files and directories.  It aids in:\n",
        "\n",
        " 1) Using os.remove() and os.rename() to create, delete, and rename files.\n",
        "\n",
        " 2) Using Directories: \"os.mkdir(),\" \"os.rmdir(),\" and \"os.listdir()\"\n",
        "\n",
        " 3) Using os.path.exists() to verify the existence of a file or directory.\n",
        "\n",
        " 4) Obtaining File Details – (os.path.abspath(), os.path.getsize()).\n",
        "\n",
        " 5) Using os.getcwd() and os.chdir() to modify and retrieve the current working directory."
      ],
      "metadata": {
        "id": "wKNDQURJT6yk"
      }
    },
    {
      "cell_type": "markdown",
      "source": [
        "\n",
        "\n",
        "---\n",
        "\n"
      ],
      "metadata": {
        "id": "rF1OkVerZPHq"
      }
    },
    {
      "cell_type": "markdown",
      "source": [
        "23. What are the challenges associated with memory management in Python?\n",
        "- The following are some difficulties with Python memory management:\n",
        "\n",
        " 1) Garbage Collection cost: Because of the frequent garbage collection cycles, Python's automated memory management may result in performance cost.\n",
        "\n",
        " 2) Memory Leaks: When references (such as global variables or circular references) are handled incorrectly, memory may be allocated in excess.\n",
        "\n",
        " 3) Fragmentation: Memory fragmentation might happen, which makes it challenging to allocate memory effectively.\n",
        "\n",
        " 4) Large Object Storage: Excessive RAM utilization may result from storing large objects in memory (such as big data processing).\n",
        "\n",
        " 5) Manual Memory Control Limitations: Python lacks direct memory allocation control, which makes optimization more difficult than in lower-level languages.\n",
        "\n",
        " 6) Reference Counting Problems: Python uses reference counting to manage memory, which can go wrong when there are cyclic dependencies."
      ],
      "metadata": {
        "id": "taBL6UG_UFN_"
      }
    },
    {
      "cell_type": "markdown",
      "source": [
        "\n",
        "\n",
        "---\n",
        "\n"
      ],
      "metadata": {
        "id": "aPRF9eNtZP07"
      }
    },
    {
      "cell_type": "markdown",
      "source": [
        "24.  How do you raise an exception manually in Python?\n",
        "- The raise keyword in Python allows us to manually raise an exception.\n",
        "\n",
        " raise Exception(\"Custom error message\") is the syntax.\n",
        "\n",
        " The following are the main points:\n",
        "\n",
        " 1) Use an exception type (such as ValueError or TypeError) after raise.\n",
        "\n",
        " 2) For clarification, you can provide a personalized error message.\n",
        "\n",
        " 3) It is helpful for managing particular situations in code or imposing limits.\n",
        "\n",
        " For instance, age = -5 if age < 0:\n",
        "     (\"Age cannot be negative\") raise ValueError"
      ],
      "metadata": {
        "id": "jMfG_H5ZUIHl"
      }
    },
    {
      "cell_type": "markdown",
      "source": [
        "\n",
        "\n",
        "---\n",
        "\n"
      ],
      "metadata": {
        "id": "xSFYYz3HZQsD"
      }
    },
    {
      "cell_type": "markdown",
      "source": [
        "25. Why is it important to use multithreading in certain applications?\n",
        "- The following are some applications where multithreading is essential:\n",
        "\n",
        " 1) Enhances Performance: By enabling the simultaneous operation of many tasks, multithreading shortens the execution time of CPU- and I/O-bound activities.\n",
        "\n",
        " 2) Improves Responsiveness: Multithreading in GUI applications makes ensuring the user interface (UI) is responsive even when background operations like file loading or data fetching are carried out.\n",
        "\n",
        " 3) Efficient CPU consumption: By permitting several threads to run concurrently on multi-core computers, it improves CPU resource consumption.\n",
        "\n",
        " 4) Faster I/O Operations: Because multithreading avoids stalling, it is advantageous for programs that use file reading/writing, network requests, or database queries.\n",
        "\n",
        " 5) Parallel Task Execution: This feature increases efficiency by enabling the simultaneous execution of separate operations (such as downloading several files at once).\n",
        "\n",
        " 7) Real-time Processing: This is crucial for real-time applications that need fast reactions, such as financial trading systems, simulations, and gaming.\n",
        "\n",
        " 8) Concurrency Support: Essential for web servers and cloud-based apps, this feature aids in managing numerous users or requests at once."
      ],
      "metadata": {
        "id": "T-2Ej2ktULoO"
      }
    },
    {
      "cell_type": "markdown",
      "source": [
        "#Practical Questions"
      ],
      "metadata": {
        "id": "J2LCBNrqnNBq"
      }
    },
    {
      "cell_type": "code",
      "source": [
        "#Q1) How can you open a file for writing in Python and write a string to it?\n",
        "with open(\"file.txt\",\"w\") as f:\n",
        "  f.write(\"hello, This is a test!\")"
      ],
      "metadata": {
        "id": "5Z9VflGunRj_"
      },
      "execution_count": 1,
      "outputs": []
    },
    {
      "cell_type": "code",
      "source": [
        "#Q2) Write a Python program to read the contents of a file and print each line?\n",
        "with open(\"file.txt\", \"r\") as f:\n",
        "    for line in f:\n",
        "        print(line.strip())"
      ],
      "metadata": {
        "colab": {
          "base_uri": "https://localhost:8080/"
        },
        "id": "1_Tu_tKrngqg",
        "outputId": "b77063fa-c6af-40d7-a5b9-8ad93ab48f73"
      },
      "execution_count": 2,
      "outputs": [
        {
          "output_type": "stream",
          "name": "stdout",
          "text": [
            "hello, This is a test!\n"
          ]
        }
      ]
    },
    {
      "cell_type": "code",
      "source": [
        "#Q3) How would you handle a case where the file doesn't exist while trying to open it for reading?\n",
        "try:\n",
        "    with open(\"file.txt\", \"r\") as f:\n",
        "        print(f.read())\n",
        "except FileNotFoundError:\n",
        "    print(\"File not found!\")"
      ],
      "metadata": {
        "colab": {
          "base_uri": "https://localhost:8080/"
        },
        "id": "JBfhrzGVpB0t",
        "outputId": "8f68dac3-07b8-4985-9f89-d512b54b91d5"
      },
      "execution_count": 3,
      "outputs": [
        {
          "output_type": "stream",
          "name": "stdout",
          "text": [
            "hello, This is a test!\n"
          ]
        }
      ]
    },
    {
      "cell_type": "code",
      "source": [
        "#Q4) Write a Python script that reads from one file and writes its content to another file.\n",
        "with open(\"source.txt\", \"r\") as src, open(\"destination.txt\", \"w\") as dest:\n",
        "    dest.write(src.read())"
      ],
      "metadata": {
        "id": "gR2gtUUfFI_3"
      },
      "execution_count": null,
      "outputs": []
    },
    {
      "cell_type": "code",
      "source": [
        "#Q5) How would you catch and handle division by zero error in Python?\n",
        "try:\n",
        "  result = 10 / 0\n",
        "except ZeroDivisionError:\n",
        "  print(\"Error: Division by zero\")"
      ],
      "metadata": {
        "id": "qCZv4R7IpL-L",
        "colab": {
          "base_uri": "https://localhost:8080/"
        },
        "outputId": "6b0a8b05-90c5-413b-cde0-5b277f700596"
      },
      "execution_count": 5,
      "outputs": [
        {
          "output_type": "stream",
          "name": "stdout",
          "text": [
            "Error: Division by zero\n"
          ]
        }
      ]
    },
    {
      "cell_type": "code",
      "source": [
        "#Q6) Write a Python program that logs an error message to a log file when a division by zero exception occurs.\n",
        "import logging\n",
        "\n",
        "logging.basicConfig(filename=\"error.log\", level=logging.ERROR)\n",
        "\n",
        "try:\n",
        "    result = 10 / 0\n",
        "except ZeroDivisionError:\n",
        "    logging.error(\"Division by zero error occurred\")"
      ],
      "metadata": {
        "id": "3Zinf5D-pPLg",
        "colab": {
          "base_uri": "https://localhost:8080/"
        },
        "outputId": "369d079c-f675-4321-ea49-97e2e3e27881"
      },
      "execution_count": 6,
      "outputs": [
        {
          "output_type": "stream",
          "name": "stderr",
          "text": [
            "ERROR:root:Division by zero error occurred\n"
          ]
        }
      ]
    },
    {
      "cell_type": "code",
      "source": [
        "#Q7) How do you log information at different levels (INFO, ERROR, WARNING) in Python using the logging module.\n",
        "import logging\n",
        "\n",
        "logging.basicConfig(filename=\"log.txt\", level=logging.INFO)\n",
        "\n",
        "logging.info(\"This is an info message\")\n",
        "logging.warning(\"This is a warning message\")\n",
        "logging.error(\"This is an error message\")"
      ],
      "metadata": {
        "id": "sRVQ6h2RpSO-",
        "colab": {
          "base_uri": "https://localhost:8080/"
        },
        "outputId": "8f905a88-9f48-49b7-b716-d6b458738669"
      },
      "execution_count": 7,
      "outputs": [
        {
          "output_type": "stream",
          "name": "stderr",
          "text": [
            "WARNING:root:This is a warning message\n",
            "ERROR:root:This is an error message\n"
          ]
        }
      ]
    },
    {
      "cell_type": "code",
      "source": [
        "#Q8) Write a program to handle a file opening error using exception handling.\n",
        "try:\n",
        "    with open(\"file.txt\", \"r\") as f:\n",
        "        print(f.read())\n",
        "except FileNotFoundError:\n",
        "    print(\"Error: File not found!\")"
      ],
      "metadata": {
        "colab": {
          "base_uri": "https://localhost:8080/"
        },
        "id": "luaB6e5WpWjk",
        "outputId": "3945e161-6e3d-4035-b506-98c6d5b660e9"
      },
      "execution_count": 8,
      "outputs": [
        {
          "output_type": "stream",
          "name": "stdout",
          "text": [
            "hello, This is a test!\n"
          ]
        }
      ]
    },
    {
      "cell_type": "code",
      "source": [
        "#Q9) How can you read a file line by line and store its content in a list in Python?\n",
        "with open(\"file.txt\", \"r\") as f:\n",
        "    lines = f.readlines()\n",
        "    print(lines)"
      ],
      "metadata": {
        "colab": {
          "base_uri": "https://localhost:8080/"
        },
        "id": "CxvmiBW2pYDt",
        "outputId": "ed72fe2c-036d-412f-fc2e-ae7aa3ebd6c4"
      },
      "execution_count": 9,
      "outputs": [
        {
          "output_type": "stream",
          "name": "stdout",
          "text": [
            "['hello, This is a test!']\n"
          ]
        }
      ]
    },
    {
      "cell_type": "code",
      "source": [
        "#Q10) How can you append data to an existing file in Python?\n",
        "with open(\"file.txt\", \"a\") as f:\n",
        "    f.write(\"\\nThis is a new line.\")"
      ],
      "metadata": {
        "id": "5nhHl4ZOpZcw"
      },
      "execution_count": 10,
      "outputs": []
    },
    {
      "cell_type": "code",
      "source": [
        "#Q11) Write a Python program that uses a try-except block to handle an error when attempting to access a dictionary key that doesn't exist?\n",
        "my_dict = {\"a\": 1, \"b\": 2, \"c\": 3}\n",
        "\n",
        "try:\n",
        "    print(my_dict[\"d\"])\n",
        "except KeyError:\n",
        "    print(\"Error: Key not found in dictionary!\")"
      ],
      "metadata": {
        "id": "pAJ5WJjb4_Y8",
        "colab": {
          "base_uri": "https://localhost:8080/"
        },
        "outputId": "564ba42a-cff7-4863-d7d3-059873d7d535"
      },
      "execution_count": 11,
      "outputs": [
        {
          "output_type": "stream",
          "name": "stdout",
          "text": [
            "Error: Key not found in dictionary!\n"
          ]
        }
      ]
    },
    {
      "cell_type": "code",
      "source": [
        "#Q12) Write a program that demonstrates using multiple except blocks to handle different types of exceptions.\n",
        "try:\n",
        "    result = 10 / 0\n",
        "except ZeroDivisionError:\n",
        "    print(\"Error: Division by zero\")\n",
        "except ValueError:\n",
        "    print(\"Error: Invalid value\")"
      ],
      "metadata": {
        "id": "cxKI3fsx5CwG",
        "colab": {
          "base_uri": "https://localhost:8080/"
        },
        "outputId": "55372e6b-7748-4496-ea5c-6af20fecb411"
      },
      "execution_count": 12,
      "outputs": [
        {
          "output_type": "stream",
          "name": "stdout",
          "text": [
            "Error: Division by zero\n"
          ]
        }
      ]
    },
    {
      "cell_type": "code",
      "source": [
        "#Q13) How would you check if a file exists before attempting to read it in Python?\n",
        "import os\n",
        "\n",
        "if os.path.exists(\"file.txt\"):\n",
        "    with open(\"file.txt\", \"r\") as f:\n",
        "        print(f.read())\n",
        "else:\n",
        "    print(\"Error: File not found!\")"
      ],
      "metadata": {
        "id": "QSrlMSfuVFva",
        "colab": {
          "base_uri": "https://localhost:8080/"
        },
        "outputId": "ba573d96-5c75-45c0-e96c-30a6004a99cc"
      },
      "execution_count": 13,
      "outputs": [
        {
          "output_type": "stream",
          "name": "stdout",
          "text": [
            "hello, This is a test!\n",
            "This is a new line.\n"
          ]
        }
      ]
    },
    {
      "cell_type": "code",
      "source": [
        "#Q14) Write a program that uses the logging module to log both informational and error messages.\n",
        "import logging\n",
        "\n",
        "logging.basicConfig(filename=\"log.txt\", level=logging.INFO)\n",
        "\n",
        "logging.info(\"This is an info message\")\n",
        "logging.error(\"This is an error message\")"
      ],
      "metadata": {
        "id": "9yquX0LnVUdD",
        "colab": {
          "base_uri": "https://localhost:8080/"
        },
        "outputId": "5161e559-e297-4a95-bc02-467ea8c01023"
      },
      "execution_count": 14,
      "outputs": [
        {
          "output_type": "stream",
          "name": "stderr",
          "text": [
            "ERROR:root:This is an error message\n"
          ]
        }
      ]
    },
    {
      "cell_type": "code",
      "source": [
        "#Q15) Write a Python program that prints the content of a file and handles the case when the file is empty.\n",
        "try:\n",
        "    with open(\"file.txt\", \"r\") as f:\n",
        "        content = f.read()\n",
        "        if content:\n",
        "            print(content)\n",
        "        else:\n",
        "            print(\"Error: File is empty!\")"
      ],
      "metadata": {
        "id": "pRb0_yYhFBwm"
      },
      "execution_count": null,
      "outputs": []
    },
    {
      "cell_type": "code",
      "source": [
        "#Q16) Demonstrate how to use memory profiling to check the memory usage of a small program.\n",
        "!pip install memory_profiler\n",
        "from memory_profiler import profile\n",
        "\n",
        "@profile\n",
        "def my_function():\n",
        "    lst = [i for i in range(100000)]  # Creating a large list\n",
        "    return sum(lst)\n",
        "\n",
        "my_function()"
      ],
      "metadata": {
        "id": "IE9EfNn0YqpH",
        "colab": {
          "base_uri": "https://localhost:8080/"
        },
        "outputId": "2a4f6b13-70f1-4e88-c876-f4ec7709e186"
      },
      "execution_count": 16,
      "outputs": [
        {
          "output_type": "stream",
          "name": "stdout",
          "text": [
            "Collecting memory_profiler\n",
            "  Downloading memory_profiler-0.61.0-py3-none-any.whl.metadata (20 kB)\n",
            "Requirement already satisfied: psutil in /usr/local/lib/python3.11/dist-packages (from memory_profiler) (5.9.5)\n",
            "Downloading memory_profiler-0.61.0-py3-none-any.whl (31 kB)\n",
            "Installing collected packages: memory_profiler\n",
            "Successfully installed memory_profiler-0.61.0\n"
          ]
        },
        {
          "output_type": "stream",
          "name": "stderr",
          "text": [
            "\n",
            "PYDEV DEBUGGER WARNING:\n",
            "sys.settrace() should not be used when the debugger is being used.\n",
            "This may cause the debugger to stop working correctly.\n",
            "If this is needed, please check: \n",
            "http://pydev.blogspot.com/2007/06/why-cant-pydev-debugger-work-with.html\n",
            "to see how to restore the debug tracing back correctly.\n",
            "Call Location:\n",
            "  File \"/usr/local/lib/python3.11/dist-packages/memory_profiler.py\", line 847, in enable\n",
            "    sys.settrace(self.trace_memory_usage)\n",
            "\n",
            "\n",
            "PYDEV DEBUGGER WARNING:\n",
            "sys.settrace() should not be used when the debugger is being used.\n",
            "This may cause the debugger to stop working correctly.\n",
            "If this is needed, please check: \n",
            "http://pydev.blogspot.com/2007/06/why-cant-pydev-debugger-work-with.html\n",
            "to see how to restore the debug tracing back correctly.\n",
            "Call Location:\n",
            "  File \"/usr/local/lib/python3.11/dist-packages/memory_profiler.py\", line 850, in disable\n",
            "    sys.settrace(self._original_trace_function)\n",
            "\n"
          ]
        },
        {
          "output_type": "stream",
          "name": "stdout",
          "text": [
            "ERROR: Could not find file <ipython-input-16-e2063e625f5d>\n",
            "NOTE: %mprun can only be used on functions defined in physical files, and not in the IPython environment.\n"
          ]
        },
        {
          "output_type": "execute_result",
          "data": {
            "text/plain": [
              "4999950000"
            ]
          },
          "metadata": {},
          "execution_count": 16
        }
      ]
    },
    {
      "cell_type": "code",
      "source": [
        "#Q17) Write a Python program to create and write a list of numbers to a file, one number per line.\n",
        "numbers = [1, 2, 3, 4, 5]\n",
        "\n",
        "with open(\"numbers.txt\", \"w\") as f:\n",
        "    for num in numbers:\n",
        "        f.write(str(num) + \"\\n\")"
      ],
      "metadata": {
        "id": "QhQ1p_hrYvzC"
      },
      "execution_count": 17,
      "outputs": []
    },
    {
      "cell_type": "code",
      "source": [
        "#Q18) How would you implement a basic logging setup that logs to a file with rotation after 1MB?\n",
        "import logging\n",
        "from logging.handlers import RotatingFileHandler\n",
        "\n",
        "handler = RotatingFileHandler(\"app.log\", maxBytes=1_000_000, backupCount=3)\n",
        "logging.basicConfig(level=logging.INFO, handlers=[handler])\n",
        "\n",
        "logging.info(\"This is a log message.\")"
      ],
      "metadata": {
        "id": "vya0tmzcY1oy"
      },
      "execution_count": 18,
      "outputs": []
    },
    {
      "cell_type": "code",
      "source": [
        "#Q19) Write a program that handles both IndexError and KeyError using a try-except block.\n",
        "try:\n",
        "    my_list = [1, 2, 3]\n",
        "    print(my_list[3])\n",
        "except IndexError:\n",
        "    print(\"Error: Index out of range!\")\n",
        "except KeyError:\n",
        "    print(\"Error: Key not found in dictionary!\")"
      ],
      "metadata": {
        "id": "mZpuTNcMEDcF",
        "colab": {
          "base_uri": "https://localhost:8080/"
        },
        "outputId": "a136ec4e-d816-4a99-b0af-41d539cebbfd"
      },
      "execution_count": 19,
      "outputs": [
        {
          "output_type": "stream",
          "name": "stdout",
          "text": [
            "Error: Index out of range!\n"
          ]
        }
      ]
    },
    {
      "cell_type": "code",
      "source": [
        "#Q20) How would you open a file and read its contents using a context manager in Python?\n",
        "with open(\"file.txt\", \"r\") as f:\n",
        "    print(f.read())"
      ],
      "metadata": {
        "id": "DevsChNYEKnN",
        "colab": {
          "base_uri": "https://localhost:8080/"
        },
        "outputId": "7ae54eff-8568-4d3f-bf08-169848f11b79"
      },
      "execution_count": 20,
      "outputs": [
        {
          "output_type": "stream",
          "name": "stdout",
          "text": [
            "hello, This is a test!\n",
            "This is a new line.\n"
          ]
        }
      ]
    },
    {
      "cell_type": "code",
      "source": [
        "#Q21) Write a Python program that reads a file and prints the number of occurrences of a specific word.\n",
        "word_count = {}\n",
        "\n",
        "with open(\"file.txt\", \"r\") as f:\n",
        "    for line in f:\n",
        "        words = line.split()"
      ],
      "metadata": {
        "id": "czlvjQfvEQx7"
      },
      "execution_count": 21,
      "outputs": []
    },
    {
      "cell_type": "code",
      "source": [
        "#Q22) How can you check if a file is empty before attempting to read its contents?\n",
        "import os\n",
        "\n",
        "if os.path.exists(\"file.txt\") and os.path.getsize(\"file.txt\") > 0:\n",
        "    with open(\"file.txt\", \"r\") as f:\n",
        "        print(f.read())\n",
        "else:\n",
        "    print(\"File is empty or does not exist!\")"
      ],
      "metadata": {
        "id": "DSyqxWY4EUk5",
        "colab": {
          "base_uri": "https://localhost:8080/"
        },
        "outputId": "42ed4aad-1b94-4790-98d7-3f3ccb579250"
      },
      "execution_count": 22,
      "outputs": [
        {
          "output_type": "stream",
          "name": "stdout",
          "text": [
            "hello, This is a test!\n",
            "This is a new line.\n"
          ]
        }
      ]
    },
    {
      "cell_type": "code",
      "source": [
        "#Q23) Write a python program which writes to a log file when an error occurs during file handling.\n",
        "import logging\n",
        "\n",
        "logging.basicConfig(filename=\"error.log\", level=logging.ERROR)\n",
        "\n",
        "try:\n",
        "    with open(\"file.txt\", \"r\") as f:\n",
        "        print(f.read())\n",
        "except FileNotFoundError as e:\n",
        "    logging.error(f\"Error: {e}\")\n",
        "    print(\"An error occurred. Check error.log for details.\")"
      ],
      "metadata": {
        "id": "4SYxrRNxEZLa",
        "colab": {
          "base_uri": "https://localhost:8080/"
        },
        "outputId": "7e69c31f-4c16-4a71-c40a-630f14944d8c"
      },
      "execution_count": 23,
      "outputs": [
        {
          "output_type": "stream",
          "name": "stdout",
          "text": [
            "hello, This is a test!\n",
            "This is a new line.\n"
          ]
        }
      ]
    }
  ]
}